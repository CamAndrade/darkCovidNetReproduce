{
  "nbformat": 4,
  "nbformat_minor": 0,
  "metadata": {
    "colab": {
      "name": "COVID-19.ipynb",
      "provenance": [],
      "collapsed_sections": [],
      "authorship_tag": "ABX9TyO9+2WrYcaR1k0DlhSwZ9TE",
      "include_colab_link": true
    },
    "kernelspec": {
      "name": "python3",
      "display_name": "Python 3"
    }
  },
  "cells": [
    {
      "cell_type": "markdown",
      "metadata": {
        "id": "view-in-github",
        "colab_type": "text"
      },
      "source": [
        "<a href=\"https://colab.research.google.com/github/CamAndrade/darkCovidNetReproduce/blob/master/COVID_19.ipynb\" target=\"_parent\"><img src=\"https://colab.research.google.com/assets/colab-badge.svg\" alt=\"Open In Colab\"/></a>"
      ]
    },
    {
      "cell_type": "markdown",
      "metadata": {
        "id": "tcFmAEDtUsFu",
        "colab_type": "text"
      },
      "source": [
        "#Coleta de dados e Configurações iniciais"
      ]
    },
    {
      "cell_type": "markdown",
      "metadata": {
        "id": "M_eV3CBTVEJE",
        "colab_type": "text"
      },
      "source": [
        "Montando o diretório drive"
      ]
    },
    {
      "cell_type": "code",
      "metadata": {
        "id": "hQMC8hvZRInW",
        "colab_type": "code",
        "colab": {
          "base_uri": "https://localhost:8080/",
          "height": 34
        },
        "outputId": "40dc8b39-e3ad-486c-95de-05a0ad83868b"
      },
      "source": [
        "from google.colab import drive\n",
        "drive.mount('/content/drive')"
      ],
      "execution_count": null,
      "outputs": [
        {
          "output_type": "stream",
          "text": [
            "Drive already mounted at /content/drive; to attempt to forcibly remount, call drive.mount(\"/content/drive\", force_remount=True).\n"
          ],
          "name": "stdout"
        }
      ]
    },
    {
      "cell_type": "markdown",
      "metadata": {
        "id": "W83ZxGxrT11F",
        "colab_type": "text"
      },
      "source": [
        "Indicando a pasta raiz"
      ]
    },
    {
      "cell_type": "code",
      "metadata": {
        "id": "R3K9Yt6iR7VZ",
        "colab_type": "code",
        "colab": {}
      },
      "source": [
        "import os\n",
        "os.chdir('/content/drive/My Drive/datasets')"
      ],
      "execution_count": null,
      "outputs": []
    },
    {
      "cell_type": "markdown",
      "metadata": {
        "id": "o_-wkMb7T5y_",
        "colab_type": "text"
      },
      "source": [
        "Clonando o repositório do dataset"
      ]
    },
    {
      "cell_type": "code",
      "metadata": {
        "id": "ycEcVxdVSatv",
        "colab_type": "code",
        "colab": {
          "base_uri": "https://localhost:8080/",
          "height": 158
        },
        "outputId": "e6998c2e-d86d-40d1-e528-2c5f6ce3290c"
      },
      "source": [
        "!git clone https://github.com/muhammedtalo/COVID-19.git"
      ],
      "execution_count": null,
      "outputs": [
        {
          "output_type": "stream",
          "text": [
            "Cloning into 'COVID-19'...\n",
            "remote: Enumerating objects: 78, done.\u001b[K\n",
            "remote: Counting objects:   1% (1/78)\u001b[K\rremote: Counting objects:   2% (2/78)\u001b[K\rremote: Counting objects:   3% (3/78)\u001b[K\rremote: Counting objects:   5% (4/78)\u001b[K\rremote: Counting objects:   6% (5/78)\u001b[K\rremote: Counting objects:   7% (6/78)\u001b[K\rremote: Counting objects:   8% (7/78)\u001b[K\rremote: Counting objects:  10% (8/78)\u001b[K\rremote: Counting objects:  11% (9/78)\u001b[K\rremote: Counting objects:  12% (10/78)\u001b[K\rremote: Counting objects:  14% (11/78)\u001b[K\rremote: Counting objects:  15% (12/78)\u001b[K\rremote: Counting objects:  16% (13/78)\u001b[K\rremote: Counting objects:  17% (14/78)\u001b[K\rremote: Counting objects:  19% (15/78)\u001b[K\rremote: Counting objects:  20% (16/78)\u001b[K\rremote: Counting objects:  21% (17/78)\u001b[K\rremote: Counting objects:  23% (18/78)\u001b[K\rremote: Counting objects:  24% (19/78)\u001b[K\rremote: Counting objects:  25% (20/78)\u001b[K\rremote: Counting objects:  26% (21/78)\u001b[K\rremote: Counting objects:  28% (22/78)\u001b[K\rremote: Counting objects:  29% (23/78)\u001b[K\rremote: Counting objects:  30% (24/78)\u001b[K\rremote: Counting objects:  32% (25/78)\u001b[K\rremote: Counting objects:  33% (26/78)\u001b[K\rremote: Counting objects:  34% (27/78)\u001b[K\rremote: Counting objects:  35% (28/78)\u001b[K\rremote: Counting objects:  37% (29/78)\u001b[K\rremote: Counting objects:  38% (30/78)\u001b[K\rremote: Counting objects:  39% (31/78)\u001b[K\rremote: Counting objects:  41% (32/78)\u001b[K\rremote: Counting objects:  42% (33/78)\u001b[K\rremote: Counting objects:  43% (34/78)\u001b[K\rremote: Counting objects:  44% (35/78)\u001b[K\rremote: Counting objects:  46% (36/78)\u001b[K\rremote: Counting objects:  47% (37/78)\u001b[K\rremote: Counting objects:  48% (38/78)\u001b[K\rremote: Counting objects:  50% (39/78)\u001b[K\rremote: Counting objects:  51% (40/78)\u001b[K\rremote: Counting objects:  52% (41/78)\u001b[K\rremote: Counting objects:  53% (42/78)\u001b[K\rremote: Counting objects:  55% (43/78)\u001b[K\rremote: Counting objects:  56% (44/78)\u001b[K\rremote: Counting objects:  57% (45/78)\u001b[K\rremote: Counting objects:  58% (46/78)\u001b[K\rremote: Counting objects:  60% (47/78)\u001b[K\rremote: Counting objects:  61% (48/78)\u001b[K\rremote: Counting objects:  62% (49/78)\u001b[K\rremote: Counting objects:  64% (50/78)\u001b[K\rremote: Counting objects:  65% (51/78)\u001b[K\rremote: Counting objects:  66% (52/78)\u001b[K\rremote: Counting objects:  67% (53/78)\u001b[K\rremote: Counting objects:  69% (54/78)\u001b[K\rremote: Counting objects:  70% (55/78)\u001b[K\rremote: Counting objects:  71% (56/78)\u001b[K\rremote: Counting objects:  73% (57/78)\u001b[K\rremote: Counting objects:  74% (58/78)\u001b[K\rremote: Counting objects:  75% (59/78)\u001b[K\rremote: Counting objects:  76% (60/78)\u001b[K\rremote: Counting objects:  78% (61/78)\u001b[K\rremote: Counting objects:  79% (62/78)\u001b[K\rremote: Counting objects:  80% (63/78)\u001b[K\rremote: Counting objects:  82% (64/78)\u001b[K\rremote: Counting objects:  83% (65/78)\u001b[K\rremote: Counting objects:  84% (66/78)\u001b[K\rremote: Counting objects:  85% (67/78)\u001b[K\rremote: Counting objects:  87% (68/78)\u001b[K\rremote: Counting objects:  88% (69/78)\u001b[K\rremote: Counting objects:  89% (70/78)\u001b[K\rremote: Counting objects:  91% (71/78)\u001b[K\rremote: Counting objects:  92% (72/78)\u001b[K\rremote: Counting objects:  93% (73/78)\u001b[K\rremote: Counting objects:  94% (74/78)\u001b[K\rremote: Counting objects:  96% (75/78)\u001b[K\rremote: Counting objects:  97% (76/78)\u001b[K\rremote: Counting objects:  98% (77/78)\u001b[K\rremote: Counting objects: 100% (78/78)\u001b[K\rremote: Counting objects: 100% (78/78), done.\u001b[K\n",
            "remote: Compressing objects: 100% (77/77), done.\u001b[K\n",
            "remote: Total 1234 (delta 27), reused 4 (delta 1), pack-reused 1156\u001b[K\n",
            "Receiving objects: 100% (1234/1234), 398.58 MiB | 20.09 MiB/s, done.\n",
            "Resolving deltas: 100% (29/29), done.\n",
            "Checking out files: 100% (1128/1128), done.\n"
          ],
          "name": "stdout"
        }
      ]
    },
    {
      "cell_type": "markdown",
      "metadata": {
        "id": "TjGVTny4T9d9",
        "colab_type": "text"
      },
      "source": [
        "Alterando a pasta raiz para a pasta do dataset clonado"
      ]
    },
    {
      "cell_type": "code",
      "metadata": {
        "id": "O94xHQfTS4wH",
        "colab_type": "code",
        "colab": {}
      },
      "source": [
        "main_dir = \"/content/drive/My Drive/datasets/COVID-19\""
      ],
      "execution_count": null,
      "outputs": []
    },
    {
      "cell_type": "markdown",
      "metadata": {
        "id": "6mZ56ZFIUbp9",
        "colab_type": "text"
      },
      "source": [
        "Importando as bibliotecas necessárias"
      ]
    },
    {
      "cell_type": "code",
      "metadata": {
        "id": "wbI0boO8TGIa",
        "colab_type": "code",
        "colab": {}
      },
      "source": [
        "from PIL import Image\n",
        "import matplotlib.pyplot as plt\n",
        "\n",
        "import torchvision\n",
        "import torch\n",
        "import torch.nn as nn\n",
        "from torch.utils.data import  DataLoader\n",
        "import torchvision.transforms as transforms\n",
        "import torch.functional as F"
      ],
      "execution_count": null,
      "outputs": []
    },
    {
      "cell_type": "markdown",
      "metadata": {
        "id": "d6ZBN_1zVMYt",
        "colab_type": "text"
      },
      "source": [
        "# Carregando os dados em um dataloader\n"
      ]
    },
    {
      "cell_type": "code",
      "metadata": {
        "id": "4ZAlf9hvVdI9",
        "colab_type": "code",
        "colab": {}
      },
      "source": [
        "image_loader = lambda img: Image.open(img).convert('RGB')"
      ],
      "execution_count": null,
      "outputs": []
    },
    {
      "cell_type": "code",
      "metadata": {
        "id": "abfyAtU2XC24",
        "colab_type": "code",
        "colab": {}
      },
      "source": [
        "class ToNorm(object):\n",
        "    def __call__(self,img):\n",
        "        mean = torch.mean(img)\n",
        "        std  = torch.std(img)\n",
        "        return (img - mean)/std"
      ],
      "execution_count": null,
      "outputs": []
    },
    {
      "cell_type": "code",
      "metadata": {
        "id": "7jIBUopLXELg",
        "colab_type": "code",
        "colab": {}
      },
      "source": [
        "transform = transforms.Compose([transforms.Resize((256,256)),\n",
        "                                transforms.ToTensor(),\n",
        "                                ToNorm()\n",
        "                            ])"
      ],
      "execution_count": null,
      "outputs": []
    },
    {
      "cell_type": "code",
      "metadata": {
        "id": "NZhxa05cXG0S",
        "colab_type": "code",
        "colab": {}
      },
      "source": [
        "dataset = torchvision.datasets.DatasetFolder(main_dir+'/X-Ray Image DataSet',loader = image_loader,extensions='jpg',transform=transform )"
      ],
      "execution_count": null,
      "outputs": []
    },
    {
      "cell_type": "code",
      "metadata": {
        "id": "bpnLxW4EgMMF",
        "colab_type": "code",
        "colab": {
          "base_uri": "https://localhost:8080/",
          "height": 34
        },
        "outputId": "17610496-37b5-4cf7-be12-a78fa8d56f62"
      },
      "source": [
        "dataset.class_to_idx['Covid-19']"
      ],
      "execution_count": null,
      "outputs": [
        {
          "output_type": "execute_result",
          "data": {
            "text/plain": [
              "0"
            ]
          },
          "metadata": {
            "tags": []
          },
          "execution_count": 10
        }
      ]
    },
    {
      "cell_type": "code",
      "metadata": {
        "id": "u9k5Do-Nak2r",
        "colab_type": "code",
        "colab": {}
      },
      "source": [
        "dataLoader = DataLoader(dataset,batch_size=32)"
      ],
      "execution_count": null,
      "outputs": []
    },
    {
      "cell_type": "code",
      "metadata": {
        "id": "iIRrZNr2azL0",
        "colab_type": "code",
        "colab": {}
      },
      "source": [
        "data,class_att = next(iter(dataLoader))"
      ],
      "execution_count": null,
      "outputs": []
    },
    {
      "cell_type": "code",
      "metadata": {
        "id": "a7MdGCOua1MW",
        "colab_type": "code",
        "colab": {}
      },
      "source": [
        "grid_img = torchvision.utils.make_grid(data,nrow=5)"
      ],
      "execution_count": null,
      "outputs": []
    },
    {
      "cell_type": "code",
      "metadata": {
        "id": "1sxDjQPJa11m",
        "colab_type": "code",
        "colab": {
          "base_uri": "https://localhost:8080/",
          "height": 304
        },
        "outputId": "93eb44b8-dd0c-420b-ef7e-a1ca9d440ea0"
      },
      "source": [
        "plt.imshow(grid_img.permute(1,2,0))"
      ],
      "execution_count": null,
      "outputs": [
        {
          "output_type": "stream",
          "text": [
            "Clipping input data to the valid range for imshow with RGB data ([0..1] for floats or [0..255] for integers).\n"
          ],
          "name": "stderr"
        },
        {
          "output_type": "execute_result",
          "data": {
            "text/plain": [
              "<matplotlib.image.AxesImage at 0x7f32a4a355c0>"
            ]
          },
          "metadata": {
            "tags": []
          },
          "execution_count": 51
        },
        {
          "output_type": "display_data",
          "data": {
            "image/png": "[encoded data removed]",
            "text/plain": [
              "<Figure size 432x288 with 1 Axes>"
            ]
          },
          "metadata": {
            "tags": [],
            "needs_background": "light"
          }
        }
      ]
    },
    {
      "cell_type": "markdown",
      "metadata": {
        "id": "ThDaAxpThDTZ",
        "colab_type": "text"
      },
      "source": [
        "# Construção de rede convolucional"
      ]
    },
    {
      "cell_type": "code",
      "metadata": {
        "id": "SZWilLHThJ-y",
        "colab_type": "code",
        "colab": {}
      },
      "source": [
        "class DarkCovidNet(nn.Module):\n",
        "  def __init__(self):\n",
        "    super(DarkCovidNet, self).__init__()\n",
        "    self.feature = nn.Sequential(\n",
        "      self.conv_block(3, 8),\n",
        "      self.maxpooling(),\n",
        "      self.conv_block(8, 16),\n",
        "      self.maxpooling(),\n",
        "      self.triple_conv(16, 32),\n",
        "      self.maxpooling(),\n",
        "      self.triple_conv(32, 64),\n",
        "      self.maxpooling(),\n",
        "      self.triple_conv(64, 128),\n",
        "      self.maxpooling(),\n",
        "      self.triple_conv(128, 256),\n",
        "      self.conv_block(256, 128, size=1),\n",
        "      self.conv_block(128, 256),\n",
        "      self.conv_block(256, 2),\n",
        "      nn.Flatten()\n",
        "    )\n",
        "    self.classifier = nn.Sequential(\n",
        "      nn.Linear(338, 2)\n",
        "    )\n",
        "\n",
        "  def conv_block(self, in_channel, out_channel, size=3, stride=1):\n",
        "    for_pad = lambda s: s if s > 2 else 3\n",
        "    self.conv_layer = nn.Sequential(\n",
        "      nn.Conv2d(in_channel, out_channel, kernel_size=size, stride=stride, padding=(for_pad(size) - 1)//2, bias=False), \n",
        "      nn.BatchNorm2d(out_channel),\n",
        "      nn.LeakyReLU(negative_slope=0.1, inplace=True) \n",
        "    )\n",
        "    return self.conv_layer\n",
        "    \n",
        "  def triple_conv(self, in_channel, out_channel):\n",
        "    self.triple_conv_layer = nn.Sequential( \n",
        "      self.conv_block(in_channel, out_channel),\n",
        "      self.conv_block(out_channel, in_channel, size=1),  \n",
        "      self.conv_block(in_channel, out_channel)\n",
        "    )\n",
        "    return self.triple_conv_layer\n",
        "    \n",
        "  def maxpooling(self):\n",
        "    return nn.MaxPool2d(2, stride=2)\n",
        "\n",
        "  def forward(self,x):\n",
        "    x = self.feature(x)\n",
        "    x = self.classifier(x)\n",
        "    return x"
      ],
      "execution_count": null,
      "outputs": []
    },
    {
      "cell_type": "code",
      "metadata": {
        "id": "rE5Q1SJoqz0l",
        "colab_type": "code",
        "colab": {}
      },
      "source": [
        "model = DarkCovidNet()"
      ],
      "execution_count": null,
      "outputs": []
    },
    {
      "cell_type": "code",
      "metadata": {
        "id": "UEiAGWNSypZf",
        "colab_type": "code",
        "colab": {}
      },
      "source": [
        "import torchsummary"
      ],
      "execution_count": null,
      "outputs": []
    },
    {
      "cell_type": "code",
      "metadata": {
        "id": "4auw763Wyl72",
        "colab_type": "code",
        "colab": {
          "base_uri": "https://localhost:8080/",
          "height": 1000
        },
        "outputId": "d5fe15c0-888b-44b7-ac46-3ccaf33c2447"
      },
      "source": [
        "torchsummary.summary(model,(3,256,256),device='cpu')"
      ],
      "execution_count": null,
      "outputs": [
        {
          "output_type": "stream",
          "text": [
            "----------------------------------------------------------------\n",
            "        Layer (type)               Output Shape         Param #\n",
            "================================================================\n",
            "            Conv2d-1          [-1, 8, 256, 256]             216\n",
            "       BatchNorm2d-2          [-1, 8, 256, 256]              16\n",
            "         LeakyReLU-3          [-1, 8, 256, 256]               0\n",
            "         MaxPool2d-4          [-1, 8, 128, 128]               0\n",
            "            Conv2d-5         [-1, 16, 128, 128]           1,152\n",
            "       BatchNorm2d-6         [-1, 16, 128, 128]              32\n",
            "         LeakyReLU-7         [-1, 16, 128, 128]               0\n",
            "         MaxPool2d-8           [-1, 16, 64, 64]               0\n",
            "            Conv2d-9           [-1, 32, 64, 64]           4,608\n",
            "      BatchNorm2d-10           [-1, 32, 64, 64]              64\n",
            "        LeakyReLU-11           [-1, 32, 64, 64]               0\n",
            "           Conv2d-12           [-1, 16, 66, 66]             512\n",
            "      BatchNorm2d-13           [-1, 16, 66, 66]              32\n",
            "        LeakyReLU-14           [-1, 16, 66, 66]               0\n",
            "           Conv2d-15           [-1, 32, 66, 66]           4,608\n",
            "      BatchNorm2d-16           [-1, 32, 66, 66]              64\n",
            "        LeakyReLU-17           [-1, 32, 66, 66]               0\n",
            "        MaxPool2d-18           [-1, 32, 33, 33]               0\n",
            "           Conv2d-19           [-1, 64, 33, 33]          18,432\n",
            "      BatchNorm2d-20           [-1, 64, 33, 33]             128\n",
            "        LeakyReLU-21           [-1, 64, 33, 33]               0\n",
            "           Conv2d-22           [-1, 32, 35, 35]           2,048\n",
            "      BatchNorm2d-23           [-1, 32, 35, 35]              64\n",
            "        LeakyReLU-24           [-1, 32, 35, 35]               0\n",
            "           Conv2d-25           [-1, 64, 35, 35]          18,432\n",
            "      BatchNorm2d-26           [-1, 64, 35, 35]             128\n",
            "        LeakyReLU-27           [-1, 64, 35, 35]               0\n",
            "        MaxPool2d-28           [-1, 64, 17, 17]               0\n",
            "           Conv2d-29          [-1, 128, 17, 17]          73,728\n",
            "      BatchNorm2d-30          [-1, 128, 17, 17]             256\n",
            "        LeakyReLU-31          [-1, 128, 17, 17]               0\n",
            "           Conv2d-32           [-1, 64, 19, 19]           8,192\n",
            "      BatchNorm2d-33           [-1, 64, 19, 19]             128\n",
            "        LeakyReLU-34           [-1, 64, 19, 19]               0\n",
            "           Conv2d-35          [-1, 128, 19, 19]          73,728\n",
            "      BatchNorm2d-36          [-1, 128, 19, 19]             256\n",
            "        LeakyReLU-37          [-1, 128, 19, 19]               0\n",
            "        MaxPool2d-38            [-1, 128, 9, 9]               0\n",
            "           Conv2d-39            [-1, 256, 9, 9]         294,912\n",
            "           Conv2d-40            [-1, 256, 9, 9]         294,912\n",
            "      BatchNorm2d-41            [-1, 256, 9, 9]             512\n",
            "      BatchNorm2d-42            [-1, 256, 9, 9]             512\n",
            "        LeakyReLU-43            [-1, 256, 9, 9]               0\n",
            "        LeakyReLU-44            [-1, 256, 9, 9]               0\n",
            "           Conv2d-45          [-1, 128, 11, 11]          32,768\n",
            "           Conv2d-46          [-1, 128, 11, 11]          32,768\n",
            "      BatchNorm2d-47          [-1, 128, 11, 11]             256\n",
            "      BatchNorm2d-48          [-1, 128, 11, 11]             256\n",
            "        LeakyReLU-49          [-1, 128, 11, 11]               0\n",
            "        LeakyReLU-50          [-1, 128, 11, 11]               0\n",
            "           Conv2d-51          [-1, 256, 11, 11]         294,912\n",
            "           Conv2d-52          [-1, 256, 11, 11]         294,912\n",
            "      BatchNorm2d-53          [-1, 256, 11, 11]             512\n",
            "      BatchNorm2d-54          [-1, 256, 11, 11]             512\n",
            "        LeakyReLU-55          [-1, 256, 11, 11]               0\n",
            "        LeakyReLU-56          [-1, 256, 11, 11]               0\n",
            "           Conv2d-57          [-1, 128, 13, 13]          32,768\n",
            "      BatchNorm2d-58          [-1, 128, 13, 13]             256\n",
            "        LeakyReLU-59          [-1, 128, 13, 13]               0\n",
            "           Conv2d-60          [-1, 256, 13, 13]         294,912\n",
            "      BatchNorm2d-61          [-1, 256, 13, 13]             512\n",
            "        LeakyReLU-62          [-1, 256, 13, 13]               0\n",
            "           Conv2d-63            [-1, 2, 13, 13]           4,608\n",
            "           Conv2d-64            [-1, 2, 13, 13]           4,608\n",
            "      BatchNorm2d-65            [-1, 2, 13, 13]               4\n",
            "      BatchNorm2d-66            [-1, 2, 13, 13]               4\n",
            "        LeakyReLU-67            [-1, 2, 13, 13]               0\n",
            "        LeakyReLU-68            [-1, 2, 13, 13]               0\n",
            "          Flatten-69                  [-1, 338]               0\n",
            "           Linear-70                    [-1, 2]             678\n",
            "================================================================\n",
            "Total params: 1,792,918\n",
            "Trainable params: 1,792,918\n",
            "Non-trainable params: 0\n",
            "----------------------------------------------------------------\n",
            "Input size (MB): 0.75\n",
            "Forward/backward pass size (MB): 39.07\n",
            "Params size (MB): 6.84\n",
            "Estimated Total Size (MB): 46.66\n",
            "----------------------------------------------------------------\n"
          ],
          "name": "stdout"
        }
      ]
    }
  ]
}